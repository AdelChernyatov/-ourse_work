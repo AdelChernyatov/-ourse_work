{
 "cells": [
  {
   "cell_type": "code",
   "execution_count": 1,
   "id": "9fed0023-d72f-45a9-b782-914d7636724a",
   "metadata": {},
   "outputs": [
    {
     "name": "stderr",
     "output_type": "stream",
     "text": [
      "D:\\rsn_env\\Lib\\site-packages\\torchaudio\\backend\\utils.py:74: UserWarning: No audio backend is available.\n",
      "  warnings.warn(\"No audio backend is available.\")\n"
     ]
    }
   ],
   "source": [
    "import os\n",
    "import torch\n",
    "import torch.nn.functional as F\n",
    "from torchvision.datasets import MNIST\n",
    "from torchvision import transforms\n",
    "from torch.utils.data import DataLoader\n",
    "import pytorch_lightning as pl\n",
    "from torch.utils.data import random_split\n",
    "import warnings\n",
    "warnings.filterwarnings(\"ignore\", category=UserWarning)"
   ]
  },
  {
   "cell_type": "code",
   "execution_count": 2,
   "id": "c02e4194-0f42-465b-b484-71f46677acf1",
   "metadata": {},
   "outputs": [],
   "source": [
    "class Pytorch_Lightning_MNIST_Classifier(pl.LightningModule):\n",
    "    def __init__(self):\n",
    "        super().__init__()\n",
    "        self.layer_1 = torch.nn.Linear(28 * 28, 128)\n",
    "        self.layer_2 = torch.nn.Linear(128, 10)\n",
    "\n",
    "    def forward(self, x):\n",
    "        x = x.view(x.size(0), -1)\n",
    "        x = self.layer_1(x)\n",
    "        x = F.relu(x)\n",
    "        x = self.layer_2(x)\n",
    "        return x\n",
    "\n",
    "    def configure_optimizers(self):\n",
    "        optimizer = torch.optim.Adam(self.parameters(), lr=1e-3)\n",
    "        return optimizer\n",
    "\n",
    "    def training_step(self, batch, batch_idx):\n",
    "        x, y = batch\n",
    "        pred = self(x)\n",
    "        loss = F.cross_entropy(pred, y)\n",
    "        self.log('train_loss', loss)\n",
    "        return loss\n",
    "\n",
    "    def validation_step(self, batch, batch_idx):\n",
    "        x, y = batch\n",
    "        pred = self(x)\n",
    "        loss = F.cross_entropy(pred, y)\n",
    "        pred = torch.argmax(pred, dim=1)\n",
    "        accuracy = torch.sum(y == pred).item() / (len(y) * 1.0)\n",
    "        self.log('val_loss', loss, prog_bar=True)\n",
    "        self.log('val_acc', torch.tensor(accuracy), prog_bar=True)\n",
    "        output = dict({\n",
    "            'val_loss': loss,\n",
    "            'val_acc': torch.tensor(accuracy),\n",
    "        })\n",
    "        return output\n",
    "\n",
    "    def test_step(self, batch, batch_idx):\n",
    "        x, y = batch\n",
    "        pred = self(x)\n",
    "        loss = F.cross_entropy(pred, y)\n",
    "        pred = torch.argmax(pred, dim=1)\n",
    "        accuracy = torch.sum(y == pred).item() / (len(y) * 1.0)\n",
    "        self.log('test_loss', loss, prog_bar=True)\n",
    "        self.log('test_acc', torch.tensor(accuracy), prog_bar=True)\n",
    "        output = dict({\n",
    "            'test_loss': loss,\n",
    "            'test_acc': torch.tensor(accuracy),\n",
    "        })\n",
    "        return output "
   ]
  },
  {
   "cell_type": "code",
   "execution_count": 3,
   "id": "0e03ce50-981d-4838-8bb9-695a1da39739",
   "metadata": {},
   "outputs": [],
   "source": [
    "class MNISTDataModule(pl.LightningDataModule):\n",
    "\n",
    "      def __init__(self, batch_size=32):\n",
    "          super().__init__()\n",
    "          self.batch_size = batch_size\n",
    "\n",
    "      def prepare_data(self):\n",
    "          MNIST(os.getcwd(), train=True, download=True)\n",
    "          MNIST(os.getcwd(), train=False, download=True)\n",
    "\n",
    "      def setup(self, stage):\n",
    "          # transforms\n",
    "          transform=transforms.Compose([\n",
    "              transforms.ToTensor(),\n",
    "              transforms.Normalize((0.1307,), (0.3081,))\n",
    "          ])\n",
    "          # split dataset\n",
    "          if stage == 'fit':\n",
    "              mnist_train = MNIST(os.getcwd(), train=True, transform=transform)\n",
    "              self.mnist_train, self.mnist_val = random_split(mnist_train, [55000, 5000])\n",
    "          if stage == 'test':\n",
    "              mnist_test = MNIST(os.getcwd(), train=False, transform=transform)\n",
    "              self.mnist_test = MNIST(os.getcwd(), train=False, download=True)\n",
    "\n",
    "      # return the dataloader for each split\n",
    "      def train_dataloader(self):\n",
    "          mnist_train = DataLoader(self.mnist_train, batch_size=self.batch_size)\n",
    "          return mnist_train\n",
    "\n",
    "      def val_dataloader(self):\n",
    "          mnist_val = DataLoader(self.mnist_val, batch_size=self.batch_size)\n",
    "          return mnist_val\n",
    "\n",
    "      def test_dataloader(self):\n",
    "          mnist_test = DataLoader(self.mnist_test, batch_size=self.batch_size)\n",
    "          return mnist_test"
   ]
  },
  {
   "cell_type": "code",
   "execution_count": 4,
   "id": "22588b85-2c3f-47d2-bc91-844f6c92b721",
   "metadata": {},
   "outputs": [
    {
     "name": "stdout",
     "output_type": "stream",
     "text": [
      "2.0.9.post0\n"
     ]
    }
   ],
   "source": [
    "print(pl.__version__)"
   ]
  },
  {
   "cell_type": "code",
   "execution_count": 6,
   "id": "3a79b1ac-c1fd-4ffe-a0c7-723afc427a0f",
   "metadata": {},
   "outputs": [],
   "source": [
    "torch.set_float32_matmul_precision('medium')"
   ]
  },
  {
   "cell_type": "code",
   "execution_count": 7,
   "id": "7ea8ca4e-f215-44ce-b9bb-bdf20f00af69",
   "metadata": {},
   "outputs": [],
   "source": [
    "transforms_set=transforms.Compose([transforms.ToTensor(),\n",
    "                                   transforms.Normalize((0.1307,),\n",
    "                                                       (0.3081,))])\n",
    "train_data = MNIST(root=\"data\",\n",
    "                   train=True,\n",
    "                   download=True,\n",
    "                   transform=transforms_set)\n",
    "\n",
    "test_data = MNIST(root=\"data\",\n",
    "                  train=False,\n",
    "                  download=True,\n",
    "                  transform=transforms_set)\n",
    "train_data_loader = DataLoader(train_data, batch_size=16)\n",
    "test_data_loader = DataLoader(test_data, batch_size=16)"
   ]
  },
  {
   "cell_type": "code",
   "execution_count": 8,
   "id": "fc9f7971-a866-4787-9fa0-7e6fc7203432",
   "metadata": {},
   "outputs": [
    {
     "name": "stderr",
     "output_type": "stream",
     "text": [
      "GPU available: True (cuda), used: True\n",
      "TPU available: False, using: 0 TPU cores\n",
      "IPU available: False, using: 0 IPUs\n",
      "HPU available: False, using: 0 HPUs\n",
      "LOCAL_RANK: 0 - CUDA_VISIBLE_DEVICES: [0]\n",
      "\n",
      "  | Name    | Type   | Params\n",
      "-----------------------------------\n",
      "0 | layer_1 | Linear | 100 K \n",
      "1 | layer_2 | Linear | 1.3 K \n",
      "-----------------------------------\n",
      "101 K     Trainable params\n",
      "0         Non-trainable params\n",
      "101 K     Total params\n",
      "0.407     Total estimated model params size (MB)\n"
     ]
    },
    {
     "data": {
      "application/vnd.jupyter.widget-view+json": {
       "model_id": "1bd0ff0d9bc3467ca2601fcd16900ae8",
       "version_major": 2,
       "version_minor": 0
      },
      "text/plain": [
       "Training: 0it [00:00, ?it/s]"
      ]
     },
     "metadata": {},
     "output_type": "display_data"
    },
    {
     "name": "stderr",
     "output_type": "stream",
     "text": [
      "`Trainer.fit` stopped: `max_epochs=1` reached.\n",
      "LOCAL_RANK: 0 - CUDA_VISIBLE_DEVICES: [0]\n"
     ]
    },
    {
     "data": {
      "application/vnd.jupyter.widget-view+json": {
       "model_id": "6b786484af614c478a96ab7fdad845b9",
       "version_major": 2,
       "version_minor": 0
      },
      "text/plain": [
       "Testing: 0it [00:00, ?it/s]"
      ]
     },
     "metadata": {},
     "output_type": "display_data"
    },
    {
     "name": "stdout",
     "output_type": "stream",
     "text": [
      "────────────────────────────────────────────────────────────────────────────────────────────────────────────────────────\n",
      "Runningstage.testing metric      DataLoader 0\n",
      "────────────────────────────────────────────────────────────────────────────────────────────────────────────────────────\n",
      "        test_acc             0.925000011920929\n",
      "        test_loss           0.3309187889099121\n",
      "────────────────────────────────────────────────────────────────────────────────────────────────────────────────────────\n"
     ]
    },
    {
     "data": {
      "text/plain": [
       "[{'test_loss': 0.3309187889099121, 'test_acc': 0.925000011920929}]"
      ]
     },
     "execution_count": 8,
     "metadata": {},
     "output_type": "execute_result"
    }
   ],
   "source": [
    "Pytorch_lightning_MNIST_model = Pytorch_Lightning_MNIST_Classifier()\n",
    "trainer = pl.Trainer(max_epochs=1)\n",
    "\n",
    "# Обучение модели\n",
    "trainer.fit(Pytorch_lightning_MNIST_model, DataLoader(train_data))\n",
    "\n",
    "# Тестирование модели\n",
    "trainer.test(Pytorch_lightning_MNIST_model, DataLoader(test_data))"
   ]
  },
  {
   "cell_type": "code",
   "execution_count": null,
   "id": "76732b72-6bca-49e9-947d-0e8d85b9a44a",
   "metadata": {},
   "outputs": [],
   "source": []
  }
 ],
 "metadata": {
  "kernelspec": {
   "display_name": "Python 3 (ipykernel)",
   "language": "python",
   "name": "python3"
  },
  "language_info": {
   "codemirror_mode": {
    "name": "ipython",
    "version": 3
   },
   "file_extension": ".py",
   "mimetype": "text/x-python",
   "name": "python",
   "nbconvert_exporter": "python",
   "pygments_lexer": "ipython3",
   "version": "3.11.4"
  }
 },
 "nbformat": 4,
 "nbformat_minor": 5
}
